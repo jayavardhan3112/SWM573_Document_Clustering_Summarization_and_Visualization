{
 "cells": [
  {
   "cell_type": "code",
   "execution_count": 6,
   "metadata": {
    "executionInfo": {
     "elapsed": 2112,
     "status": "ok",
     "timestamp": 1669592809402,
     "user": {
      "displayName": "Akash Kant",
      "userId": "00686239010064357902"
     },
     "user_tz": 420
    },
    "id": "5mRgYoT9e_BC"
   },
   "outputs": [],
   "source": [
    "import re\n",
    "import numpy as np\n",
    "import pandas as pd\n",
    "import csv\n",
    "from sklearn.datasets import fetch_20newsgroups"
   ]
  },
  {
   "cell_type": "markdown",
   "metadata": {},
   "source": [
    "## Getting the Data from the sklearn library"
   ]
  },
  {
   "cell_type": "code",
   "execution_count": 7,
   "metadata": {
    "executionInfo": {
     "elapsed": 1608,
     "status": "ok",
     "timestamp": 1669593590559,
     "user": {
      "displayName": "Akash Kant",
      "userId": "00686239010064357902"
     },
     "user_tz": 420
    },
    "id": "50KcubswfNYM"
   },
   "outputs": [],
   "source": [
    "dataset = fetch_20newsgroups(subset='all', shuffle=True, random_state=42, remove=('headers', 'footers', 'quotes'))"
   ]
  },
  {
   "cell_type": "markdown",
   "metadata": {},
   "source": [
    "## Adding the data to Data Frames"
   ]
  },
  {
   "cell_type": "code",
   "execution_count": 10,
   "metadata": {
    "pycharm": {
     "name": "#%%\n"
    }
   },
   "outputs": [
    {
     "data": {
      "text/html": [
       "<div>\n",
       "<style scoped>\n",
       "    .dataframe tbody tr th:only-of-type {\n",
       "        vertical-align: middle;\n",
       "    }\n",
       "\n",
       "    .dataframe tbody tr th {\n",
       "        vertical-align: top;\n",
       "    }\n",
       "\n",
       "    .dataframe thead th {\n",
       "        text-align: right;\n",
       "    }\n",
       "</style>\n",
       "<table border=\"1\" class=\"dataframe\">\n",
       "  <thead>\n",
       "    <tr style=\"text-align: right;\">\n",
       "      <th></th>\n",
       "      <th>text</th>\n",
       "      <th>label</th>\n",
       "    </tr>\n",
       "  </thead>\n",
       "  <tbody>\n",
       "    <tr>\n",
       "      <th>18841</th>\n",
       "      <td>DN&gt; From: nyeda@cnsvax.uwec.edu (David Nye)\\nD...</td>\n",
       "      <td>13</td>\n",
       "    </tr>\n",
       "    <tr>\n",
       "      <th>18842</th>\n",
       "      <td>\\nNot in isolated ground recepticles (usually ...</td>\n",
       "      <td>12</td>\n",
       "    </tr>\n",
       "    <tr>\n",
       "      <th>18843</th>\n",
       "      <td>I just installed a DX2-66 CPU in a clone mothe...</td>\n",
       "      <td>3</td>\n",
       "    </tr>\n",
       "    <tr>\n",
       "      <th>18844</th>\n",
       "      <td>\\nWouldn't this require a hyper-sphere.  In 3-...</td>\n",
       "      <td>1</td>\n",
       "    </tr>\n",
       "    <tr>\n",
       "      <th>18845</th>\n",
       "      <td>After a tip from Gary Crum (crum@fcom.cc.utah....</td>\n",
       "      <td>7</td>\n",
       "    </tr>\n",
       "  </tbody>\n",
       "</table>\n",
       "</div>"
      ],
      "text/plain": [
       "                                                    text  label\n",
       "18841  DN> From: nyeda@cnsvax.uwec.edu (David Nye)\\nD...     13\n",
       "18842  \\nNot in isolated ground recepticles (usually ...     12\n",
       "18843  I just installed a DX2-66 CPU in a clone mothe...      3\n",
       "18844  \\nWouldn't this require a hyper-sphere.  In 3-...      1\n",
       "18845  After a tip from Gary Crum (crum@fcom.cc.utah....      7"
      ]
     },
     "execution_count": 10,
     "metadata": {},
     "output_type": "execute_result"
    }
   ],
   "source": [
    "df = pd.DataFrame(list(dataset.data), columns=['text'])\n",
    "df[\"label\"] = list(dataset.target)\n",
    "df.tail()"
   ]
  },
  {
   "cell_type": "code",
   "execution_count": 11,
   "metadata": {},
   "outputs": [
    {
     "name": "stdout",
     "output_type": "stream",
     "text": [
      "<bound method DataFrame.info of                                                     text  label\n",
      "0      \\n\\nI am sure some bashers of Pens fans are pr...     10\n",
      "1      My brother is in the market for a high-perform...      3\n",
      "2      \\n\\n\\n\\n\\tFinally you said what you dream abou...     17\n",
      "3      \\nThink!\\n\\nIt's the SCSI card doing the DMA t...      3\n",
      "4      1)    I have an old Jasmine drive which I cann...      4\n",
      "...                                                  ...    ...\n",
      "18841  DN> From: nyeda@cnsvax.uwec.edu (David Nye)\\nD...     13\n",
      "18842  \\nNot in isolated ground recepticles (usually ...     12\n",
      "18843  I just installed a DX2-66 CPU in a clone mothe...      3\n",
      "18844  \\nWouldn't this require a hyper-sphere.  In 3-...      1\n",
      "18845  After a tip from Gary Crum (crum@fcom.cc.utah....      7\n",
      "\n",
      "[18846 rows x 2 columns]>\n"
     ]
    },
    {
     "data": {
      "text/plain": [
       "(18846, 2)"
      ]
     },
     "execution_count": 11,
     "metadata": {},
     "output_type": "execute_result"
    }
   ],
   "source": [
    "print(df.info)\n",
    "df.shape"
   ]
  },
  {
   "cell_type": "markdown",
   "metadata": {},
   "source": [
    "## Cleaning and tokenizing the dataset\n"
   ]
  },
  {
   "cell_type": "code",
   "execution_count": 13,
   "metadata": {},
   "outputs": [],
   "source": [
    "def data_cleaning_and_tokenizing_text(news_data):\n",
    "  cleaned_text = []\n",
    "  for text in news_data:\n",
    "    # only keep numbers and letters and spaces\n",
    "    text = re.sub('[^\\w]|_', ' ', text)\n",
    "    text = text.lower()\n",
    "    text = re.sub(r'[^\\x00-\\x7f]',r'', text)   # remove non ascii texts\n",
    "    tokens = [token for token in text.split(' ') if token] # remove empty words\n",
    "    \n",
    "    tokens = ['[number]' if token.isdigit() else token for token in tokens]  # convert all numbers to '[number]'\n",
    "    cleaned_text.append(tokens)\n",
    "  return cleaned_text"
   ]
  },
  {
   "cell_type": "code",
   "execution_count": 14,
   "metadata": {},
   "outputs": [],
   "source": [
    "clean_train_tokens = data_cleaning_and_tokenizing_text(dataset.data)"
   ]
  },
  {
   "cell_type": "code",
   "execution_count": 22,
   "metadata": {},
   "outputs": [
    {
     "data": {
      "text/plain": [
       "18846"
      ]
     },
     "execution_count": 22,
     "metadata": {},
     "output_type": "execute_result"
    }
   ],
   "source": [
    "len(clean_train_tokens)"
   ]
  },
  {
   "cell_type": "code",
   "execution_count": 23,
   "metadata": {},
   "outputs": [],
   "source": [
    "def get_unique_tokens_per_row(text_token_list):\n",
    "    words = []\n",
    "    for row in text_token_list:\n",
    "        words.extend(list(set(row)))\n",
    "    return words"
   ]
  },
  {
   "cell_type": "code",
   "execution_count": 25,
   "metadata": {},
   "outputs": [
    {
     "data": {
      "text/plain": [
       "<AxesSubplot:>"
      ]
     },
     "execution_count": 25,
     "metadata": {},
     "output_type": "execute_result"
    },
    {
     "data": {
      "image/png": "[encoded data removed]",
      "text/plain": [
       "<Figure size 432x288 with 1 Axes>"
      ]
     },
     "metadata": {
      "needs_background": "light"
     },
     "output_type": "display_data"
    }
   ],
   "source": [
    "words = pd.DataFrame(get_unique_tokens_per_row(clean_train_tokens) , columns=['words'])\n",
    "token_frequency = words['words'].value_counts() \n",
    "token_frequency.plot(logy=True)"
   ]
  },
  {
   "cell_type": "code",
   "execution_count": 27,
   "metadata": {},
   "outputs": [
    {
     "data": {
      "text/plain": [
       "<AxesSubplot:>"
      ]
     },
     "execution_count": 27,
     "metadata": {},
     "output_type": "execute_result"
    },
    {
     "data": {
      "image/png": "[encoded data removed]",
      "text/plain": [
       "<Figure size 432x288 with 1 Axes>"
      ]
     },
     "metadata": {
      "needs_background": "light"
     },
     "output_type": "display_data"
    }
   ],
   "source": [
    "vocab = token_frequency[np.logical_and(token_frequency < 1000, token_frequency > 10)]\n",
    "vocab.plot(logy=True)"
   ]
  },
  {
   "cell_type": "code",
   "execution_count": 30,
   "metadata": {},
   "outputs": [],
   "source": [
    "def filter_text_by_vocab(news_data, vocab):\n",
    "    text_strs = []\n",
    "    for row in news_data:\n",
    "        words_to_keep = [token for token in row if token in vocab or token == '[number]']\n",
    "        text_strs.append(' '.join(words_to_keep))\n",
    "    return text_strs"
   ]
  },
  {
   "cell_type": "code",
   "execution_count": 31,
   "metadata": {},
   "outputs": [],
   "source": [
    "clean_data = filter_text_by_vocab(clean_train_tokens, set(vocab.index))"
   ]
  },
  {
   "cell_type": "code",
   "execution_count": 36,
   "metadata": {},
   "outputs": [
    {
     "data": {
      "text/plain": [
       "315"
      ]
     },
     "execution_count": 36,
     "metadata": {},
     "output_type": "execute_result"
    }
   ],
   "source": [
    "len(clean_data[0])"
   ]
  },
  {
   "cell_type": "code",
   "execution_count": 39,
   "metadata": {},
   "outputs": [
    {
     "data": {
      "text/plain": [
       "'brother market high performance video card supports vesa local bus [number] 2mb ram suggestions ideas diamond stealth pro local bus orchid [number] ati graphics ultra pro high performance vlb card email thank matt'"
      ]
     },
     "execution_count": 39,
     "metadata": {},
     "output_type": "execute_result"
    }
   ],
   "source": [
    "clean_data[1]"
   ]
  },
  {
   "cell_type": "code",
   "execution_count": 41,
   "metadata": {},
   "outputs": [
    {
     "data": {
      "text/plain": [
       "['pens fans pretty confused lack kind posts recent pens massacre devils relieved end non relief praise pens man killing devils worse thought jagr showed regular season stats fo fun watch playoffs bowman jagr fun next couple games pens beat jersey anyway disappointed islanders lose final regular season game pens rule',\n",
       " 'brother market high performance video card supports vesa local bus [number] 2mb ram suggestions ideas diamond stealth pro local bus orchid [number] ati graphics ultra pro high performance vlb card email thank matt']"
      ]
     },
     "execution_count": 41,
     "metadata": {},
     "output_type": "execute_result"
    }
   ],
   "source": [
    "clean_data[:2]"
   ]
  },
  {
   "cell_type": "code",
   "execution_count": 56,
   "metadata": {},
   "outputs": [],
   "source": [
    "with open('../dataset/cleaned_data.csv', 'w') as f:\n",
    "    writer = csv.writer(f, lineterminator='\\n')\n",
    "    for target, text in zip(dataset.target, clean_data):\n",
    "        writer.writerow([dataset.target_names[target], text])"
   ]
  },
  {
   "cell_type": "code",
   "execution_count": 58,
   "metadata": {},
   "outputs": [],
   "source": [
    "with open('../dataset/vocabulary.txt', 'w') as f:\n",
    "    vocab.to_csv(f)"
   ]
  },
  {
   "cell_type": "code",
   "execution_count": 66,
   "metadata": {},
   "outputs": [],
   "source": [
    "df = pd.read_csv('../dataset/cleaned_data.csv', header=None)\n",
    "df.columns = [\"label\", \"text\"]"
   ]
  },
  {
   "cell_type": "code",
   "execution_count": 67,
   "metadata": {},
   "outputs": [
    {
     "data": {
      "text/html": [
       "<div>\n",
       "<style scoped>\n",
       "    .dataframe tbody tr th:only-of-type {\n",
       "        vertical-align: middle;\n",
       "    }\n",
       "\n",
       "    .dataframe tbody tr th {\n",
       "        vertical-align: top;\n",
       "    }\n",
       "\n",
       "    .dataframe thead th {\n",
       "        text-align: right;\n",
       "    }\n",
       "</style>\n",
       "<table border=\"1\" class=\"dataframe\">\n",
       "  <thead>\n",
       "    <tr style=\"text-align: right;\">\n",
       "      <th></th>\n",
       "      <th>label</th>\n",
       "      <th>text</th>\n",
       "    </tr>\n",
       "  </thead>\n",
       "  <tbody>\n",
       "    <tr>\n",
       "      <th>18841</th>\n",
       "      <td>sci.med</td>\n",
       "      <td>dn david dn dn consultation cheaper scan diffe...</td>\n",
       "    </tr>\n",
       "    <tr>\n",
       "      <th>18842</th>\n",
       "      <td>sci.electronics</td>\n",
       "      <td>isolated ground usually unusual color orange y...</td>\n",
       "    </tr>\n",
       "    <tr>\n",
       "      <th>18843</th>\n",
       "      <td>comp.sys.ibm.pc.hardware</td>\n",
       "      <td>installed dx2 [number] cpu clone motherboard t...</td>\n",
       "    </tr>\n",
       "    <tr>\n",
       "      <th>18844</th>\n",
       "      <td>comp.graphics</td>\n",
       "      <td>wouldn require sphere [number] space [number] ...</td>\n",
       "    </tr>\n",
       "    <tr>\n",
       "      <th>18845</th>\n",
       "      <td>rec.autos</td>\n",
       "      <td>tip gary cc utah phone pontiac systems custome...</td>\n",
       "    </tr>\n",
       "  </tbody>\n",
       "</table>\n",
       "</div>"
      ],
      "text/plain": [
       "                          label  \\\n",
       "18841                   sci.med   \n",
       "18842           sci.electronics   \n",
       "18843  comp.sys.ibm.pc.hardware   \n",
       "18844             comp.graphics   \n",
       "18845                 rec.autos   \n",
       "\n",
       "                                                    text  \n",
       "18841  dn david dn dn consultation cheaper scan diffe...  \n",
       "18842  isolated ground usually unusual color orange y...  \n",
       "18843  installed dx2 [number] cpu clone motherboard t...  \n",
       "18844  wouldn require sphere [number] space [number] ...  \n",
       "18845  tip gary cc utah phone pontiac systems custome...  "
      ]
     },
     "execution_count": 67,
     "metadata": {},
     "output_type": "execute_result"
    }
   ],
   "source": [
    "df_new.tail()"
   ]
  },
  {
   "cell_type": "code",
   "execution_count": 68,
   "metadata": {},
   "outputs": [
    {
     "data": {
      "text/plain": [
       "(18846, 2)"
      ]
     },
     "execution_count": 68,
     "metadata": {},
     "output_type": "execute_result"
    }
   ],
   "source": [
    "df.shape"
   ]
  },
  {
   "cell_type": "markdown",
   "metadata": {},
   "source": [
    "## Removing the Null values"
   ]
  },
  {
   "cell_type": "code",
   "execution_count": 69,
   "metadata": {},
   "outputs": [
    {
     "name": "stdout",
     "output_type": "stream",
     "text": [
      "<class 'pandas.core.frame.DataFrame'>\n",
      "Int64Index: 18270 entries, 0 to 18845\n",
      "Data columns (total 2 columns):\n",
      " #   Column  Non-Null Count  Dtype \n",
      "---  ------  --------------  ----- \n",
      " 0   label   18270 non-null  object\n",
      " 1   text    18270 non-null  object\n",
      "dtypes: object(2)\n",
      "memory usage: 428.2+ KB\n"
     ]
    }
   ],
   "source": [
    "df = df.dropna()\n",
    "df.info()"
   ]
  },
  {
   "cell_type": "code",
   "execution_count": 70,
   "metadata": {},
   "outputs": [],
   "source": [
    "df.to_csv(\"../dataset/newsgroup-preprocessed-data.csv\", index=None)"
   ]
  },
  {
   "cell_type": "code",
   "execution_count": null,
   "metadata": {},
   "outputs": [],
   "source": []
  }
 ],
 "metadata": {
  "colab": {
   "authorship_tag": "ABX9TyO+3Y2A2sSZl3cPJfjfczV4",
   "provenance": []
  },
  "kernelspec": {
   "display_name": "Python 3 (ipykernel)",
   "language": "python",
   "name": "python3"
  },
  "language_info": {
   "codemirror_mode": {
    "name": "ipython",
    "version": 3
   },
   "file_extension": ".py",
   "mimetype": "text/x-python",
   "name": "python",
   "nbconvert_exporter": "python",
   "pygments_lexer": "ipython3",
   "version": "3.9.7"
  }
 },
 "nbformat": 4,
 "nbformat_minor": 1
}
